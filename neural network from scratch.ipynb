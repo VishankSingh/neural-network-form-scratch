{
  "nbformat": 4,
  "nbformat_minor": 0,
  "metadata": {
    "colab": {
      "name": "nnfs.ipynb",
      "provenance": [],
      "collapsed_sections": [],
      "authorship_tag": "ABX9TyOv0bhNNOanM0+ZQwF3pQtn",
      "include_colab_link": true
    },
    "kernelspec": {
      "name": "python3",
      "display_name": "Python 3"
    }
  },
  "cells": [
    {
      "cell_type": "markdown",
      "metadata": {
        "id": "view-in-github",
        "colab_type": "text"
      },
      "source": [
        "<a href=\"https://colab.research.google.com/github/VishankSingh/neural-network-from-scratch/blob/main/neural%20network%20from%20scratch.ipynb\" target=\"_parent\"><img src=\"https://colab.research.google.com/assets/colab-badge.svg\" alt=\"Open In Colab\"/></a>"
      ]
    },
    {
      "cell_type": "code",
      "metadata": {
        "id": "bUQ7LLyhKBfn"
      },
      "source": [
        "import numpy as np\r\n",
        "\r\n",
        "training_set = np.array([[0,0],\r\n",
        "                         [0,1],\r\n",
        "                         [1,0],\r\n",
        "                         [1,1]])\r\n",
        "\r\n",
        "labels = np.array([[0,\r\n",
        "                    1,\r\n",
        "                    1,\r\n",
        "                    1]])\r\n",
        "\r\n",
        "labels = labels.reshape(4,1)"
      ],
      "execution_count": 1,
      "outputs": []
    },
    {
      "cell_type": "code",
      "metadata": {
        "id": "uCqMChNOKEUr"
      },
      "source": [
        "#Hyperparameters\r\n",
        "np.random.seed(42)\r\n",
        "weights = np.random.rand(2,1)\r\n",
        "bias = np.random.rand(1)\r\n",
        "LR = 0.05\r\n",
        "EPOCHS = 1000"
      ],
      "execution_count": 6,
      "outputs": []
    },
    {
      "cell_type": "code",
      "metadata": {
        "id": "un-9d5jRKGUL"
      },
      "source": [
        "#Activation functions\r\n",
        "def sigmoid(x):\r\n",
        "    return 1/(1+np.exp(-x))\r\n",
        "\r\n",
        "def sigmoid_derivative(x):\r\n",
        "    return sigmoid(x)*(1-sigmoid(x))"
      ],
      "execution_count": 3,
      "outputs": []
    },
    {
      "cell_type": "code",
      "metadata": {
        "id": "5i_I9ms3KGRp"
      },
      "source": [
        "#Training the model\r\n",
        "for epoch in range(EPOCHS):\r\n",
        "    inputs = training_set\r\n",
        "    z = np.dot(inputs, weights) + bias\r\n",
        "    prediction = sigmoid(z)\r\n",
        "    error = prediction - labels\r\n",
        "    \r\n",
        "    print(f\"Epoch {epoch+1}/{EPOCHS} \\n  Error: \\n{error}\\n\")\r\n",
        "    change = error * sigmoid_derivative(prediction)\r\n",
        "    inputs = training_set.T\r\n",
        "    weights = weights - LR*np.dot(inputs, change)\r\n",
        "    for num in change:\r\n",
        "        bias = bias - LR*num"
      ],
      "execution_count": null,
      "outputs": []
    },
    {
      "cell_type": "code",
      "metadata": {
        "id": "NBS1K1mNtoYd"
      },
      "source": [
        "inputs = training_set"
      ],
      "execution_count": 8,
      "outputs": []
    },
    {
      "cell_type": "code",
      "metadata": {
        "id": "8bWjdokNKGKc"
      },
      "source": [
        "#Feed forward\r\n",
        "XW = np.dot(inputs, weights) + bias\r\n",
        "prediction = sigmoid(XW)\r\n",
        "\r\n",
        "#Error\r\n",
        "error = prediction - labels\r\n",
        "\r\n",
        "#Determining slope\r\n",
        "slope = inputs * error * sigmoid_derivative(prediction)\r\n",
        "\r\n",
        "\r\n",
        "change = error * sigmoid_derivative(prediction)\r\n",
        "inputs = training_set.T\r\n",
        "weights = weights - LR*np.dot(inputs, change)\r\n",
        "\r\n",
        "for num in change:\r\n",
        "    bias = bias - LR*num\r\n",
        "    "
      ],
      "execution_count": 9,
      "outputs": []
    },
    {
      "cell_type": "code",
      "metadata": {
        "colab": {
          "base_uri": "https://localhost:8080/"
        },
        "id": "yLScKxBtKGH6",
        "outputId": "aabf989f-50b1-4dcc-cc58-daa915eaee29"
      },
      "source": [
        "#Predicting outcomes\r\n",
        "for i in training_set:\r\n",
        "    single_pt = np.array(i)\r\n",
        "    result = sigmoid(np.dot(single_pt, weights) + bias)\r\n",
        "    print(f'{result}\\nRounded result: {np.around(result)}\\n')"
      ],
      "execution_count": 10,
      "outputs": [
        {
          "output_type": "stream",
          "text": [
            "[0.30170328]\n",
            "Rounded result: [0.]\n",
            "\n",
            "[0.87801485]\n",
            "Rounded result: [1.]\n",
            "\n",
            "[0.86378899]\n",
            "Rounded result: [1.]\n",
            "\n",
            "[0.99062312]\n",
            "Rounded result: [1.]\n",
            "\n"
          ],
          "name": "stdout"
        }
      ]
    }
  ]
}